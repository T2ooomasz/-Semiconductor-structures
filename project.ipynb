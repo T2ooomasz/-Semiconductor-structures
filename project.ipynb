{
 "cells": [
  {
   "cell_type": "markdown",
   "metadata": {},
   "source": [
    "# Projektowanie struktur półprzewodnikowych - projekt"
   ]
  },
  {
   "cell_type": "markdown",
   "metadata": {},
   "source": [
    "## Cs Sn wynieszać z Cl i I\n",
    "$ CsSn[Cl_{3x}I_{3(1-x)}] $ \n",
    "To nasz materiał\n",
    "\n",
    "Do konca tygodnia."
   ]
  },
  {
   "cell_type": "markdown",
   "metadata": {},
   "source": [
    "### Biblioteki"
   ]
  },
  {
   "cell_type": "code",
   "execution_count": 1,
   "metadata": {},
   "outputs": [],
   "source": [
    "import numpy as np\n",
    "import math\n",
    "import matplotlib.pyplot as plt"
   ]
  },
  {
   "cell_type": "markdown",
   "metadata": {},
   "source": [
    "### Tablicowanie funkcji"
   ]
  },
  {
   "cell_type": "code",
   "execution_count": 2,
   "metadata": {},
   "outputs": [
    {
     "data": {
      "image/png": "[encoded data removed]",
      "text/plain": [
       "<Figure size 432x288 with 1 Axes>"
      ]
     },
     "metadata": {
      "needs_background": "light"
     },
     "output_type": "display_data"
    }
   ],
   "source": [
    "def f(x):\n",
    "    return (math.e**x + 1) / x\n",
    "\n",
    "def lookup(start, end, samples):\n",
    "    FROM = start\n",
    "    TO = end\n",
    "    rang = TO - FROM\n",
    "    samples = samples\n",
    "    shift = rang / (samples - 1)\n",
    "    arg = FROM\n",
    "    N = rang * samples\n",
    "    x = [None]*N\n",
    "    y1 = [None]*(N)\n",
    "    y2 = [None]*(N)\n",
    "    for j in range(samples):\n",
    "        x[j] = arg\n",
    "        if arg < 0:\n",
    "            y1[j] = f(arg)\n",
    "        else:\n",
    "            y2[j] = f(arg)\n",
    "        arg += shift\n",
    "\n",
    "    plt.plot(x, y1, 'b', x, y2, 'b')\n",
    "    plt.xlabel('x')\n",
    "    plt.ylabel('f(x)')\n",
    "    plt.grid()\n",
    "    # plt.legend()\n",
    "    ax = plt.gca()\n",
    "    ax.set_ylim([-50, 50])\n",
    "    plt.show()\n",
    "\n",
    "lookup(-8,8,1000)\n",
    "    "
   ]
  },
  {
   "cell_type": "code",
   "execution_count": 3,
   "metadata": {},
   "outputs": [
    {
     "data": {
      "image/png": "[encoded data removed]",
      "text/plain": [
       "<Figure size 432x288 with 1 Axes>"
      ]
     },
     "metadata": {
      "needs_background": "light"
     },
     "output_type": "display_data"
    }
   ],
   "source": [
    "def f(x, par1, par2, C):\n",
    "    return x * par2 + (1 - x) * par1 + x * (1 - x) * C\n",
    "\n",
    "def lookup(par1, par2, C):\n",
    "    FROM = 0\n",
    "    TO = 1\n",
    "    rang = TO - FROM\n",
    "    samples = 7000\n",
    "    shift = rang / (samples - 1)\n",
    "    arg = FROM\n",
    "    N = rang * samples\n",
    "    N = math.ceil(N)\n",
    "    x = [None]*N\n",
    "    y = [None]*N\n",
    "    for j in range(samples):\n",
    "        x[j] = arg * 100\n",
    "        y[j] = f(arg, par1, par2, C)\n",
    "        arg += shift\n",
    "    plt.plot(x, y)\n",
    "    plt.xlabel('GaP                                            %                                          GaAs')\n",
    "    plt.ylabel('Eg')\n",
    "    plt.grid()\n",
    "    # plt.legend()\n",
    "    plt.show()\n",
    "    \n",
    "GaP = 2.886\n",
    "GaAs = 1.519\n",
    "C = 0.8\n",
    "lookup(GaP, GaAs, C)"
   ]
  },
  {
   "cell_type": "markdown",
   "metadata": {},
   "source": [
    "# Trzeba zrobić algebrę liniową\n",
    "python - numpy; scipy\n",
    "\n",
    "fortran - lapac; blas; openblas\n",
    "\n",
    "c++ - openblas; eigen; blaze; lapacke; własny research\n",
    "\n",
    "# Kolejne zajęcia\n",
    "- diagonalizacja macierzy\n",
    "- zależność od temperatury $\\\\$\n",
    "$F(k_x, k_y, k_z, Mat) \\\\$\n",
    "$E_g(T) = E_g(0) - \\frac{\\alpha T^2}{\\beta + T} \\\\$\n",
    "$E_g(T) = E_g(0) + \\alpha T\\\\$\n",
    "$T \\in [250; 350]$\n",
    "- k = [0,0,0]; VB, CS, CH, CL\n",
    "\n",
    "T_0  = 300\n",
    "VB = VBO = O\n",
    "CS = VBO + Eg = Eg\n",
    "CH, CL= VBO, + Eg + delta\n",
    "Zadanie Domowe:\n",
    "- Wykresy\n"
   ]
  },
  {
   "cell_type": "code",
   "execution_count": 30,
   "metadata": {},
   "outputs": [
    {
     "name": "stdout",
     "output_type": "stream",
     "text": [
      "Initial Matrix:\n",
      "[[ -2   0   0   0]\n",
      " [  0  -2   0   0]\n",
      " [ 24 -12   2   0]\n",
      " [  0   0   0   2]]\n",
      "\n",
      "Diagonal Matrix:\n",
      "[[-2.  0.  0.  0.]\n",
      " [ 0. -2.  0.  0.]\n",
      " [ 0.  0.  2.  0.]\n",
      " [ 0.  0.  0.  2.]]\n"
     ]
    }
   ],
   "source": [
    "Hamiltonian = np.array([[-2, 0, 0, 0],\n",
    "                        [0, -2, 0, 0],\n",
    "                        [24, -12, 2, 0],\n",
    "                        [0, 0, 0, 2]])\n",
    "\n",
    "print('Initial Matrix:')\n",
    "print(Hamiltonian)\n",
    "\n",
    "w,v =  np.linalg.eig(Hamiltonian)\n",
    "idx = w.argsort() #small to large\n",
    "w = w[idx]\n",
    "v = v[:,idx]\n",
    "diagonal = np.diag(w)\n",
    "print('\\nDiagonal Matrix:')\n",
    "print(diagonal)\n",
    "\n",
    "# jak to robi prowadzący\n",
    "M = np.zeros((2,2), dtype=complex)"
   ]
  },
  {
   "cell_type": "code",
   "execution_count": 8,
   "metadata": {},
   "outputs": [
    {
     "name": "stdout",
     "output_type": "stream",
     "text": [
      "[[1 1 1 1 1]\n",
      " [1 1 1 1 1]\n",
      " [1 1 1 1 1]\n",
      " [1 1 1 1 1]\n",
      " [1 1 1 1 1]]\n"
     ]
    },
    {
     "ename": "AttributeError",
     "evalue": "'numpy.ndarray' object has no attribute 'diagonalize'",
     "output_type": "error",
     "traceback": [
      "\u001b[1;31m---------------------------------------------------------------------------\u001b[0m",
      "\u001b[1;31mAttributeError\u001b[0m                            Traceback (most recent call last)",
      "\u001b[1;32m~\\AppData\\Local\\Temp/ipykernel_27716/2798180041.py\u001b[0m in \u001b[0;36m<module>\u001b[1;34m\u001b[0m\n\u001b[0;32m      8\u001b[0m \u001b[0mprint\u001b[0m\u001b[1;33m(\u001b[0m\u001b[0mHamiltonian\u001b[0m\u001b[1;33m)\u001b[0m\u001b[1;33m\u001b[0m\u001b[1;33m\u001b[0m\u001b[0m\n\u001b[0;32m      9\u001b[0m \u001b[1;33m\u001b[0m\u001b[0m\n\u001b[1;32m---> 10\u001b[1;33m \u001b[0mP\u001b[0m\u001b[1;33m,\u001b[0m \u001b[0mD\u001b[0m \u001b[1;33m=\u001b[0m \u001b[0mHamiltonian\u001b[0m\u001b[1;33m.\u001b[0m\u001b[0mdiagonalize\u001b[0m\u001b[1;33m(\u001b[0m\u001b[1;33m)\u001b[0m\u001b[1;33m\u001b[0m\u001b[1;33m\u001b[0m\u001b[0m\n\u001b[0m\u001b[0;32m     11\u001b[0m \u001b[1;33m\u001b[0m\u001b[0m\n\u001b[0;32m     12\u001b[0m \u001b[0mprint\u001b[0m\u001b[1;33m(\u001b[0m\u001b[1;34m\"Diagonal of a matrix : {}\"\u001b[0m\u001b[1;33m.\u001b[0m\u001b[0mformat\u001b[0m\u001b[1;33m(\u001b[0m\u001b[0mD\u001b[0m\u001b[1;33m)\u001b[0m\u001b[1;33m)\u001b[0m\u001b[1;33m\u001b[0m\u001b[1;33m\u001b[0m\u001b[0m\n",
      "\u001b[1;31mAttributeError\u001b[0m: 'numpy.ndarray' object has no attribute 'diagonalize'"
     ]
    }
   ],
   "source": [
    "import sympy \n",
    "Hamiltonian = np.array([[1,1,1,1,1],\n",
    "    [1,1,1,1,1],\n",
    "    [1,1,1,1,1],\n",
    "    [1,1,1,1,1],\n",
    "    [1,1,1,1,1]])\n",
    "\n",
    "print(Hamiltonian)\n",
    "\n",
    "P, D = Hamiltonian.diagonalize()  \n",
    "      \n",
    "print(\"Diagonal of a matrix : {}\".format(D))  "
   ]
  }
 ],
 "metadata": {
  "interpreter": {
   "hash": "b0452d89610dc7df08749795205020e3c897fe8df483bbd7809e609e1d757640"
  },
  "kernelspec": {
   "display_name": "Python 3.9.7 ('base')",
   "language": "python",
   "name": "python3"
  },
  "language_info": {
   "codemirror_mode": {
    "name": "ipython",
    "version": 3
   },
   "file_extension": ".py",
   "mimetype": "text/x-python",
   "name": "python",
   "nbconvert_exporter": "python",
   "pygments_lexer": "ipython3",
   "version": "3.9.7"
  },
  "orig_nbformat": 4
 },
 "nbformat": 4,
 "nbformat_minor": 2
}
